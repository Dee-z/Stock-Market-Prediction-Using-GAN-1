{
 "cells": [
  {
   "cell_type": "code",
   "execution_count": 1,
   "metadata": {},
   "outputs": [],
   "source": [
    "# plaidml 사용해 AMD_GPU 활성화\n",
    "import plaidml.keras\n",
    "plaidml.keras.install_backend()"
   ]
  },
  {
   "cell_type": "code",
   "execution_count": 2,
   "metadata": {},
   "outputs": [],
   "source": [
    "import os\n",
    "import pandas as pd\n",
    "import numpy as np\n",
    "\n",
    "from sklearn.preprocessing import MinMaxScaler\n",
    "from sklearn.metrics import mean_squared_error, accuracy_score\n",
    "\n",
    "from keras.models import Sequential\n",
    "from keras.layers import CuDNNLSTM, LSTM, Dense, Activation, Dropout, BatchNormalization, LeakyReLU, GRU\n",
    "from keras.optimizers import SGD, Adagrad, RMSprop, Adam, Adadelta, Nadam\n",
    "\n",
    "import matplotlib.pyplot as plt\n",
    "import math\n",
    "\n",
    "import talib"
   ]
  },
  {
   "cell_type": "code",
   "execution_count": 3,
   "metadata": {},
   "outputs": [
    {
     "data": {
      "text/html": [
       "<div>\n",
       "<style scoped>\n",
       "    .dataframe tbody tr th:only-of-type {\n",
       "        vertical-align: middle;\n",
       "    }\n",
       "\n",
       "    .dataframe tbody tr th {\n",
       "        vertical-align: top;\n",
       "    }\n",
       "\n",
       "    .dataframe thead th {\n",
       "        text-align: right;\n",
       "    }\n",
       "</style>\n",
       "<table border=\"1\" class=\"dataframe\">\n",
       "  <thead>\n",
       "    <tr style=\"text-align: right;\">\n",
       "      <th></th>\n",
       "      <th>open</th>\n",
       "      <th>high</th>\n",
       "      <th>low</th>\n",
       "      <th>close</th>\n",
       "      <th>volume</th>\n",
       "    </tr>\n",
       "    <tr>\n",
       "      <th>date</th>\n",
       "      <th></th>\n",
       "      <th></th>\n",
       "      <th></th>\n",
       "      <th></th>\n",
       "      <th></th>\n",
       "    </tr>\n",
       "  </thead>\n",
       "  <tbody>\n",
       "    <tr>\n",
       "      <th>2020-07-01T21:36:00</th>\n",
       "      <td>211</td>\n",
       "      <td>211</td>\n",
       "      <td>211</td>\n",
       "      <td>211</td>\n",
       "      <td>110</td>\n",
       "    </tr>\n",
       "    <tr>\n",
       "      <th>2020-07-01T21:35:00</th>\n",
       "      <td>210</td>\n",
       "      <td>211</td>\n",
       "      <td>210</td>\n",
       "      <td>211</td>\n",
       "      <td>20663</td>\n",
       "    </tr>\n",
       "    <tr>\n",
       "      <th>2020-07-01T21:34:00</th>\n",
       "      <td>209</td>\n",
       "      <td>210</td>\n",
       "      <td>209</td>\n",
       "      <td>210</td>\n",
       "      <td>360996</td>\n",
       "    </tr>\n",
       "    <tr>\n",
       "      <th>2020-07-01T21:33:00</th>\n",
       "      <td>209</td>\n",
       "      <td>210</td>\n",
       "      <td>209</td>\n",
       "      <td>209</td>\n",
       "      <td>164921</td>\n",
       "    </tr>\n",
       "    <tr>\n",
       "      <th>2020-07-01T21:32:00</th>\n",
       "      <td>209</td>\n",
       "      <td>209</td>\n",
       "      <td>209</td>\n",
       "      <td>209</td>\n",
       "      <td>947</td>\n",
       "    </tr>\n",
       "  </tbody>\n",
       "</table>\n",
       "</div>"
      ],
      "text/plain": [
       "                     open  high  low  close  volume\n",
       "date                                               \n",
       "2020-07-01T21:36:00   211   211  211    211     110\n",
       "2020-07-01T21:35:00   210   211  210    211   20663\n",
       "2020-07-01T21:34:00   209   210  209    210  360996\n",
       "2020-07-01T21:33:00   209   210  209    209  164921\n",
       "2020-07-01T21:32:00   209   209  209    209     947"
      ]
     },
     "execution_count": 3,
     "metadata": {},
     "output_type": "execute_result"
    }
   ],
   "source": [
    "# 파일로드\n",
    "#df = pd.read_csv(\"C:\\\\Users\\\\ojkk3\\\\PycharmProjects\\\\coin_crawler\\\\data\\\\upbit_KRW_XRP_minutes_15.csv\", index_col=\"date\")\n",
    "df = pd.read_csv(\"F:\\\\jupyter_project\\\\valid\\\\Using GAN\\\\dataset\\\\XRP_1mm_(2020-01-05 ~ 2020-07-01)_columns.csv\", index_col=\"date\")\n",
    "df.head()"
   ]
  },
  {
   "cell_type": "code",
   "execution_count": 4,
   "metadata": {},
   "outputs": [
    {
     "data": {
      "text/plain": [
       "date\n",
       "2020-07-01T21:36:00    211\n",
       "2020-07-01T21:35:00    211\n",
       "2020-07-01T21:34:00    210\n",
       "2020-07-01T21:33:00    209\n",
       "2020-07-01T21:32:00    209\n",
       "                      ... \n",
       "2020-01-01T00:04:00    221\n",
       "2020-01-01T00:03:00    223\n",
       "2020-01-01T00:02:00    222\n",
       "2020-01-01T00:01:00    221\n",
       "2020-01-01T00:00:00    222\n",
       "Name: close, Length: 230308, dtype: int64"
      ]
     },
     "execution_count": 4,
     "metadata": {},
     "output_type": "execute_result"
    }
   ],
   "source": [
    "# 1분후 종가예측 모델이니까 종가 데이터 확인\n",
    "df['close']"
   ]
  },
  {
   "cell_type": "code",
   "execution_count": 5,
   "metadata": {},
   "outputs": [
    {
     "data": {
      "text/plain": [
       "array([[222],\n",
       "       [221],\n",
       "       [222],\n",
       "       ...,\n",
       "       [210],\n",
       "       [211],\n",
       "       [211]], dtype=int64)"
      ]
     },
     "execution_count": 5,
     "metadata": {},
     "output_type": "execute_result"
    }
   ],
   "source": [
    " # nparray로 변환\n",
    "nparr = df[['close']].values[::-1]\n",
    "nparr"
   ]
  },
  {
   "cell_type": "code",
   "execution_count": 6,
   "metadata": {},
   "outputs": [
    {
     "data": {
      "text/plain": [
       "array([[222.],\n",
       "       [221.],\n",
       "       [222.],\n",
       "       ...,\n",
       "       [210.],\n",
       "       [211.],\n",
       "       [211.]], dtype=float32)"
      ]
     },
     "execution_count": 6,
     "metadata": {},
     "output_type": "execute_result"
    }
   ],
   "source": [
    "nparr = nparr.astype('float32')\n",
    "nparr"
   ]
  },
  {
   "cell_type": "code",
   "execution_count": 7,
   "metadata": {},
   "outputs": [],
   "source": [
    "# normalization(정규화)\n",
    "# 엉뚱한 값이 중요해지지 않게 하기 위해\n",
    "scaler = MinMaxScaler(feature_range=(-5, 5))\n",
    "ndf = scaler.fit_transform(nparr)"
   ]
  },
  {
   "cell_type": "code",
   "execution_count": 8,
   "metadata": {},
   "outputs": [
    {
     "name": "stdout",
     "output_type": "stream",
     "text": [
      "218792 11516\n"
     ]
    }
   ],
   "source": [
    "# train데이터 95%, test데이터 5%로 split \n",
    "train_size = int(len(ndf) * 0.95)\n",
    "test_size = len(ndf) - train_size\n",
    "train, test = ndf[0:train_size], ndf[train_size:len(ndf)]\n",
    "print(len(train), len(test))"
   ]
  },
  {
   "cell_type": "markdown",
   "metadata": {},
   "source": [
    "모델에 학습시키기 위해서는 데이터와 라벨로 구성된 데이터셋으로 만들어야 합니다.  \n",
    "이전 수치들을 입력하여 다음 수치를 예측하는 문제이므로 데이터는 이전 수치들이 되고, 라벨은 다음 수치가 됩니다.  \n",
    "데이터와 라벨이 모두 같은 속성입니다.  \n",
    "\n",
    "**아래 create_dataset() 함수는 시계열 수치를 입력받아 데이터셋을 생성합니다.  \n",
    "이 때 look_back 인자는 '얼마만큼의 이전 수치까지 데이터셋으로 만들것인가'를 결정합니다.  \n",
    "즉, 머나먼 과거부터 look_back전까지의 데이터셋**"
   ]
  },
  {
   "cell_type": "code",
   "execution_count": 9,
   "metadata": {},
   "outputs": [],
   "source": [
    "# 학습을 위한 데이터 생성하는 함수\n",
    "\n",
    "look_back = 1\n",
    "# dataset : 이전수치, \n",
    "def create_dataset(dataset, look_back=1):\n",
    "    dataX, dataY = [], []\n",
    "    for i in range(len(dataset)-look_back-1):\n",
    "        a = dataset[i:(i + look_back)]\n",
    "        dataX.append(a)\n",
    "        dataY.append(dataset[i + look_back])\n",
    "    return np.array(dataX), np.array(dataY)\n",
    "\n",
    "trainX, trainY = create_dataset(train, look_back)\n",
    "testX, testY = create_dataset(test, look_back)"
   ]
  },
  {
   "cell_type": "markdown",
   "metadata": {},
   "source": [
    "**1년전부터 1개 전까지의 수치를 입력하여 다음 수치 1개를 예측하는 데이터셋을 만들기 위해\n",
    "look_back 인자를 1로 설정하였습니다.**  \n",
    "look_back 인자에 따라 모델의 성능이 달라지므로 적정 값을 지정하는 것이 중요합니다."
   ]
  },
  {
   "cell_type": "code",
   "execution_count": 10,
   "metadata": {},
   "outputs": [
    {
     "name": "stdout",
     "output_type": "stream",
     "text": [
      "(218790, 1, 1)\n",
      "(11514, 1, 1)\n"
     ]
    }
   ],
   "source": [
    "# 현재 데이터 형식은 [samples, features] 으로 되어있다.\n",
    "# 입력데이터 형식을 [samples, time steps, features] 로 변환해야한다.\n",
    "# LSTM의 입력데이터 형식은 [samples, time steps, features] 이기 때문이다.\n",
    "trainX = np.reshape(trainX, (trainX.shape[0], 1, trainX.shape[1]))\n",
    "testX = np.reshape(testX, (testX.shape[0], 1, testX.shape[1]))\n",
    "print(trainX.shape)\n",
    "print(testX.shape)"
   ]
  },
  {
   "cell_type": "markdown",
   "metadata": {},
   "source": [
    "## GRU + LSTM\n",
    "- Computation cost가 낮은 GRU셀과  \n",
    "  Cell state로 Gradient Vanishing의 문제를 극복한 LSTM을 사용"
   ]
  },
  {
   "cell_type": "code",
   "execution_count": 11,
   "metadata": {
    "scrolled": true
   },
   "outputs": [
    {
     "name": "stderr",
     "output_type": "stream",
     "text": [
      "INFO:plaidml:Opening device \"opencl_amd_ellesmere.0\"\n"
     ]
    },
    {
     "name": "stdout",
     "output_type": "stream",
     "text": [
      "Train on 218790 samples, validate on 11514 samples\n",
      "Epoch 1/200\n",
      "218790/218790 [==============================] - 13s 62us/step - loss: 1.6626 - val_loss: 0.0039\n",
      "Epoch 2/200\n",
      "218790/218790 [==============================] - 2s 10us/step - loss: 0.1725 - val_loss: 0.0025\n",
      "Epoch 3/200\n",
      "218790/218790 [==============================] - 2s 10us/step - loss: 0.0217 - val_loss: 0.0019\n",
      "Epoch 4/200\n",
      "218790/218790 [==============================] - 2s 10us/step - loss: 0.0148 - val_loss: 0.0016\n",
      "Epoch 5/200\n",
      "218790/218790 [==============================] - 2s 10us/step - loss: 0.0124 - val_loss: 0.0014\n",
      "Epoch 6/200\n",
      "218790/218790 [==============================] - 2s 11us/step - loss: 0.0103 - val_loss: 0.0012\n",
      "Epoch 7/200\n",
      "218790/218790 [==============================] - 2s 10us/step - loss: 0.0082 - val_loss: 0.0010\n",
      "Epoch 8/200\n",
      "218790/218790 [==============================] - 2s 11us/step - loss: 0.0066 - val_loss: 8.3900e-04\n",
      "Epoch 9/200\n",
      "218790/218790 [==============================] - 2s 10us/step - loss: 0.0054 - val_loss: 7.4977e-04\n",
      "Epoch 10/200\n",
      "218790/218790 [==============================] - 2s 11us/step - loss: 0.0046 - val_loss: 6.7806e-04\n",
      "Epoch 11/200\n",
      "218790/218790 [==============================] - 2s 11us/step - loss: 0.0041 - val_loss: 6.5561e-04\n",
      "Epoch 12/200\n",
      "218790/218790 [==============================] - 2s 11us/step - loss: 0.0038 - val_loss: 6.5044e-04\n",
      "Epoch 13/200\n",
      "218790/218790 [==============================] - 2s 11us/step - loss: 0.0037 - val_loss: 6.4416e-04\n",
      "Epoch 14/200\n",
      "218790/218790 [==============================] - 2s 10us/step - loss: 0.0035 - val_loss: 6.5383e-04\n",
      "Epoch 15/200\n",
      "218790/218790 [==============================] - 2s 11us/step - loss: 0.0035 - val_loss: 6.4289e-04\n",
      "Epoch 16/200\n",
      "218790/218790 [==============================] - 2s 10us/step - loss: 0.0035 - val_loss: 6.4457e-04\n",
      "Epoch 17/200\n",
      "218790/218790 [==============================] - 2s 11us/step - loss: 0.0034 - val_loss: 6.4120e-04\n",
      "Epoch 18/200\n",
      "218790/218790 [==============================] - 2s 11us/step - loss: 0.0034 - val_loss: 6.4393e-04\n",
      "Epoch 19/200\n",
      "218790/218790 [==============================] - 2s 11us/step - loss: 0.0034 - val_loss: 6.4262e-04\n",
      "Epoch 20/200\n",
      "218790/218790 [==============================] - 2s 11us/step - loss: 0.0034 - val_loss: 6.4137e-04\n",
      "Epoch 21/200\n",
      "218790/218790 [==============================] - 2s 10us/step - loss: 0.0033 - val_loss: 6.4128e-04\n",
      "Epoch 22/200\n",
      "218790/218790 [==============================] - 2s 11us/step - loss: 0.0033 - val_loss: 6.4714e-04\n",
      "Epoch 23/200\n",
      "218790/218790 [==============================] - 2s 10us/step - loss: 0.0033 - val_loss: 6.4328e-04\n",
      "Epoch 24/200\n",
      "218790/218790 [==============================] - 2s 11us/step - loss: 0.0033 - val_loss: 6.4168e-04\n",
      "Epoch 25/200\n",
      "218790/218790 [==============================] - 2s 11us/step - loss: 0.0032 - val_loss: 6.5572e-04\n",
      "Epoch 26/200\n",
      "218790/218790 [==============================] - 2s 11us/step - loss: 0.0032 - val_loss: 6.4058e-04\n",
      "Epoch 27/200\n",
      "218790/218790 [==============================] - 2s 11us/step - loss: 0.0032 - val_loss: 6.6355e-04\n",
      "Epoch 28/200\n",
      "218790/218790 [==============================] - 2s 11us/step - loss: 0.0031 - val_loss: 6.4060e-04\n",
      "Epoch 29/200\n",
      "218790/218790 [==============================] - 2s 11us/step - loss: 0.0031 - val_loss: 6.5118e-04\n",
      "Epoch 30/200\n",
      "218790/218790 [==============================] - 2s 10us/step - loss: 0.0031 - val_loss: 6.4170e-04\n",
      "Epoch 31/200\n",
      "218790/218790 [==============================] - 2s 11us/step - loss: 0.0031 - val_loss: 6.4085e-04\n",
      "Epoch 32/200\n",
      "218790/218790 [==============================] - 2s 11us/step - loss: 0.0030 - val_loss: 6.5242e-04\n",
      "Epoch 33/200\n",
      "218790/218790 [==============================] - 2s 10us/step - loss: 0.0030 - val_loss: 6.4713e-04\n",
      "Epoch 34/200\n",
      "218790/218790 [==============================] - 2s 11us/step - loss: 0.0030 - val_loss: 6.4957e-04\n",
      "Epoch 35/200\n",
      "218790/218790 [==============================] - 2s 11us/step - loss: 0.0030 - val_loss: 7.2518e-04\n",
      "Epoch 36/200\n",
      "218790/218790 [==============================] - 2s 11us/step - loss: 0.0030 - val_loss: 6.6383e-04\n",
      "Epoch 37/200\n",
      "218790/218790 [==============================] - 2s 11us/step - loss: 0.0030 - val_loss: 6.4131e-04\n",
      "Epoch 38/200\n",
      "218790/218790 [==============================] - 2s 11us/step - loss: 0.0030 - val_loss: 6.6765e-04\n",
      "Epoch 39/200\n",
      "218790/218790 [==============================] - 2s 11us/step - loss: 0.0030 - val_loss: 6.4113e-04\n",
      "Epoch 40/200\n",
      "218790/218790 [==============================] - 2s 11us/step - loss: 0.0029 - val_loss: 6.4414e-04\n",
      "Epoch 41/200\n",
      "218790/218790 [==============================] - 2s 11us/step - loss: 0.0029 - val_loss: 6.6632e-04\n",
      "Epoch 42/200\n",
      "218790/218790 [==============================] - 2s 10us/step - loss: 0.0029 - val_loss: 6.8161e-04\n",
      "Epoch 43/200\n",
      "218790/218790 [==============================] - 2s 11us/step - loss: 0.0029 - val_loss: 6.4931e-04\n",
      "Epoch 44/200\n",
      "218790/218790 [==============================] - 2s 11us/step - loss: 0.0029 - val_loss: 6.4171e-04\n",
      "Epoch 45/200\n",
      "218790/218790 [==============================] - 2s 11us/step - loss: 0.0028 - val_loss: 6.4268e-04\n",
      "Epoch 46/200\n",
      "218790/218790 [==============================] - 2s 11us/step - loss: 0.0028 - val_loss: 7.4966e-04\n",
      "Epoch 47/200\n",
      "218790/218790 [==============================] - 2s 11us/step - loss: 0.0028 - val_loss: 6.4220e-04\n",
      "Epoch 48/200\n",
      "218790/218790 [==============================] - 2s 11us/step - loss: 0.0028 - val_loss: 6.4217e-04\n",
      "Epoch 49/200\n",
      "218790/218790 [==============================] - 2s 10us/step - loss: 0.0028 - val_loss: 6.5896e-04\n",
      "Epoch 50/200\n",
      "218790/218790 [==============================] - 2s 11us/step - loss: 0.0028 - val_loss: 6.5865e-04\n",
      "Epoch 51/200\n",
      "218790/218790 [==============================] - 2s 10us/step - loss: 0.0028 - val_loss: 6.4177e-04\n",
      "Epoch 52/200\n",
      "218790/218790 [==============================] - 2s 11us/step - loss: 0.0028 - val_loss: 6.4429e-04\n",
      "Epoch 53/200\n",
      "218790/218790 [==============================] - 2s 10us/step - loss: 0.0028 - val_loss: 7.5073e-04\n",
      "Epoch 54/200\n",
      "218790/218790 [==============================] - 2s 11us/step - loss: 0.0028 - val_loss: 6.7170e-04\n",
      "Epoch 55/200\n",
      "218790/218790 [==============================] - 2s 11us/step - loss: 0.0028 - val_loss: 6.4137e-04\n",
      "Epoch 56/200\n",
      "218790/218790 [==============================] - 2s 10us/step - loss: 0.0028 - val_loss: 6.4957e-04\n",
      "Epoch 57/200\n",
      "218790/218790 [==============================] - 2s 11us/step - loss: 0.0028 - val_loss: 6.4121e-04\n",
      "Epoch 58/200\n",
      "218790/218790 [==============================] - 2s 11us/step - loss: 0.0028 - val_loss: 6.4111e-04\n",
      "Epoch 59/200\n",
      "218790/218790 [==============================] - 2s 11us/step - loss: 0.0027 - val_loss: 6.4101e-04\n",
      "Epoch 60/200\n",
      "218790/218790 [==============================] - 2s 10us/step - loss: 0.0027 - val_loss: 6.4714e-04\n",
      "Epoch 61/200\n",
      "218790/218790 [==============================] - 2s 11us/step - loss: 0.0027 - val_loss: 6.6458e-04\n",
      "Epoch 62/200\n",
      "218790/218790 [==============================] - 2s 11us/step - loss: 0.0028 - val_loss: 6.4362e-04\n",
      "Epoch 63/200\n",
      "218790/218790 [==============================] - 2s 10us/step - loss: 0.0027 - val_loss: 6.5258e-04\n",
      "Epoch 64/200\n",
      "218790/218790 [==============================] - 2s 11us/step - loss: 0.0027 - val_loss: 6.8518e-04\n",
      "Epoch 65/200\n",
      "218790/218790 [==============================] - 2s 11us/step - loss: 0.0027 - val_loss: 6.4249e-04\n",
      "Epoch 66/200\n",
      "218790/218790 [==============================] - 2s 11us/step - loss: 0.0027 - val_loss: 6.4105e-04\n",
      "Epoch 67/200\n",
      "218790/218790 [==============================] - 2s 10us/step - loss: 0.0027 - val_loss: 6.6195e-04\n",
      "Epoch 68/200\n",
      "218790/218790 [==============================] - 2s 10us/step - loss: 0.0027 - val_loss: 6.4075e-04\n",
      "Epoch 69/200\n",
      "218790/218790 [==============================] - 2s 11us/step - loss: 0.0027 - val_loss: 6.4401e-04\n",
      "Epoch 70/200\n",
      "218790/218790 [==============================] - 2s 10us/step - loss: 0.0027 - val_loss: 6.4200e-04\n",
      "Epoch 71/200\n",
      "218790/218790 [==============================] - 2s 11us/step - loss: 0.0027 - val_loss: 6.4085e-04\n",
      "Epoch 72/200\n",
      "218790/218790 [==============================] - 2s 10us/step - loss: 0.0027 - val_loss: 6.4148e-04\n",
      "Epoch 73/200\n",
      "218790/218790 [==============================] - 2s 11us/step - loss: 0.0027 - val_loss: 6.4055e-04\n",
      "Epoch 74/200\n",
      "218790/218790 [==============================] - 2s 10us/step - loss: 0.0027 - val_loss: 6.5551e-04\n",
      "Epoch 75/200\n",
      "218790/218790 [==============================] - 2s 10us/step - loss: 0.0027 - val_loss: 6.4098e-04\n",
      "Epoch 76/200\n",
      "218790/218790 [==============================] - 2s 11us/step - loss: 0.0027 - val_loss: 6.4811e-04\n",
      "Epoch 77/200\n",
      "218790/218790 [==============================] - 2s 10us/step - loss: 0.0027 - val_loss: 6.9148e-04\n",
      "Epoch 78/200\n",
      "218790/218790 [==============================] - 2s 11us/step - loss: 0.0027 - val_loss: 6.7247e-04\n",
      "Epoch 79/200\n",
      "218790/218790 [==============================] - 2s 10us/step - loss: 0.0027 - val_loss: 6.4133e-04\n",
      "Epoch 80/200\n",
      "218790/218790 [==============================] - 2s 11us/step - loss: 0.0027 - val_loss: 6.4942e-04\n",
      "Epoch 81/200\n",
      "218790/218790 [==============================] - 2s 10us/step - loss: 0.0027 - val_loss: 6.4506e-04\n",
      "Epoch 82/200\n",
      "218790/218790 [==============================] - 2s 11us/step - loss: 0.0027 - val_loss: 6.4402e-04\n",
      "Epoch 83/200\n",
      "218790/218790 [==============================] - 2s 11us/step - loss: 0.0027 - val_loss: 6.7522e-04\n",
      "Epoch 84/200\n",
      "218790/218790 [==============================] - 2s 10us/step - loss: 0.0026 - val_loss: 6.4366e-04\n",
      "Epoch 85/200\n",
      "218790/218790 [==============================] - 2s 11us/step - loss: 0.0027 - val_loss: 6.4167e-04\n",
      "Epoch 86/200\n",
      "218790/218790 [==============================] - 2s 10us/step - loss: 0.0026 - val_loss: 6.6118e-04\n",
      "Epoch 87/200\n",
      "218790/218790 [==============================] - 2s 11us/step - loss: 0.0027 - val_loss: 6.8733e-04\n",
      "Epoch 88/200\n",
      "218790/218790 [==============================] - 2s 11us/step - loss: 0.0026 - val_loss: 6.7233e-04\n",
      "Epoch 89/200\n",
      "218790/218790 [==============================] - 2s 11us/step - loss: 0.0026 - val_loss: 6.5389e-04\n",
      "Epoch 90/200\n",
      "218790/218790 [==============================] - 2s 11us/step - loss: 0.0026 - val_loss: 6.4116e-04\n",
      "Epoch 91/200\n",
      "218790/218790 [==============================] - 2s 10us/step - loss: 0.0026 - val_loss: 6.4160e-04\n",
      "Epoch 92/200\n",
      "218790/218790 [==============================] - 2s 11us/step - loss: 0.0026 - val_loss: 6.6960e-04\n",
      "Epoch 93/200\n",
      "218790/218790 [==============================] - 2s 11us/step - loss: 0.0026 - val_loss: 7.3821e-04\n",
      "Epoch 94/200\n",
      "218790/218790 [==============================] - 2s 11us/step - loss: 0.0026 - val_loss: 6.9286e-04\n",
      "Epoch 95/200\n",
      "218790/218790 [==============================] - 2s 11us/step - loss: 0.0026 - val_loss: 6.8376e-04\n",
      "Epoch 96/200\n",
      "218790/218790 [==============================] - 2s 11us/step - loss: 0.0026 - val_loss: 6.5089e-04\n",
      "Epoch 97/200\n",
      "218790/218790 [==============================] - 2s 11us/step - loss: 0.0026 - val_loss: 7.1855e-04\n",
      "Epoch 98/200\n",
      "218790/218790 [==============================] - 2s 11us/step - loss: 0.0026 - val_loss: 6.4058e-04\n",
      "Epoch 99/200\n",
      "218790/218790 [==============================] - 2s 11us/step - loss: 0.0026 - val_loss: 6.6334e-04\n",
      "Epoch 100/200\n",
      "218790/218790 [==============================] - 2s 11us/step - loss: 0.0026 - val_loss: 7.3022e-04\n",
      "Epoch 101/200\n",
      "218790/218790 [==============================] - 2s 11us/step - loss: 0.0026 - val_loss: 7.2694e-04\n",
      "Epoch 102/200\n",
      "218790/218790 [==============================] - 2s 11us/step - loss: 0.0026 - val_loss: 6.6009e-04\n",
      "Epoch 103/200\n",
      "218790/218790 [==============================] - 2s 11us/step - loss: 0.0026 - val_loss: 6.5174e-04\n",
      "Epoch 104/200\n",
      "218790/218790 [==============================] - 2s 10us/step - loss: 0.0026 - val_loss: 6.4061e-04\n",
      "Epoch 105/200\n",
      "218790/218790 [==============================] - 2s 11us/step - loss: 0.0026 - val_loss: 6.4061e-04\n",
      "Epoch 106/200\n",
      "218790/218790 [==============================] - 2s 11us/step - loss: 0.0026 - val_loss: 6.8559e-04\n",
      "Epoch 107/200\n",
      "218790/218790 [==============================] - 2s 11us/step - loss: 0.0026 - val_loss: 6.4817e-04\n",
      "Epoch 108/200\n",
      "218790/218790 [==============================] - 2s 11us/step - loss: 0.0026 - val_loss: 6.4142e-04\n",
      "Epoch 109/200\n",
      "218790/218790 [==============================] - 2s 10us/step - loss: 0.0026 - val_loss: 6.4883e-04\n",
      "Epoch 110/200\n",
      "218790/218790 [==============================] - 2s 11us/step - loss: 0.0026 - val_loss: 6.5099e-04\n",
      "Epoch 111/200\n",
      "218790/218790 [==============================] - 2s 11us/step - loss: 0.0026 - val_loss: 6.4719e-04\n",
      "Epoch 112/200\n",
      "218790/218790 [==============================] - 2s 11us/step - loss: 0.0026 - val_loss: 6.4130e-04\n",
      "Epoch 113/200\n",
      "218790/218790 [==============================] - 2s 11us/step - loss: 0.0026 - val_loss: 6.4277e-04\n",
      "Epoch 114/200\n",
      "218790/218790 [==============================] - 2s 11us/step - loss: 0.0026 - val_loss: 6.5335e-04\n",
      "Epoch 115/200\n",
      "218790/218790 [==============================] - 2s 11us/step - loss: 0.0026 - val_loss: 6.4058e-04\n",
      "Epoch 116/200\n",
      "218790/218790 [==============================] - 2s 10us/step - loss: 0.0026 - val_loss: 6.4726e-04\n",
      "Epoch 117/200\n",
      "218790/218790 [==============================] - 2s 11us/step - loss: 0.0026 - val_loss: 6.8072e-04\n",
      "Epoch 118/200\n",
      "218790/218790 [==============================] - 2s 10us/step - loss: 0.0026 - val_loss: 7.0173e-04\n",
      "Epoch 119/200\n",
      "218790/218790 [==============================] - 2s 11us/step - loss: 0.0026 - val_loss: 6.6964e-04\n",
      "Epoch 120/200\n",
      "218790/218790 [==============================] - 2s 11us/step - loss: 0.0026 - val_loss: 6.5282e-04\n",
      "Epoch 121/200\n",
      "218790/218790 [==============================] - 2s 11us/step - loss: 0.0025 - val_loss: 6.5078e-04\n",
      "Epoch 122/200\n",
      "218790/218790 [==============================] - 2s 11us/step - loss: 0.0026 - val_loss: 6.4620e-04\n",
      "Epoch 123/200\n",
      "218790/218790 [==============================] - 2s 11us/step - loss: 0.0025 - val_loss: 6.4919e-04\n",
      "Epoch 124/200\n",
      "218790/218790 [==============================] - 2s 11us/step - loss: 0.0025 - val_loss: 6.6439e-04\n",
      "Epoch 125/200\n",
      "218790/218790 [==============================] - 2s 11us/step - loss: 0.0026 - val_loss: 6.6984e-04\n",
      "Epoch 126/200\n",
      "218790/218790 [==============================] - 2s 11us/step - loss: 0.0025 - val_loss: 6.4119e-04\n",
      "Epoch 127/200\n",
      "218790/218790 [==============================] - 2s 11us/step - loss: 0.0025 - val_loss: 6.4929e-04\n",
      "Epoch 128/200\n",
      "218790/218790 [==============================] - 2s 11us/step - loss: 0.0025 - val_loss: 6.4083e-04\n",
      "Epoch 129/200\n",
      "218790/218790 [==============================] - 2s 11us/step - loss: 0.0025 - val_loss: 6.4265e-04\n",
      "Epoch 130/200\n",
      "218790/218790 [==============================] - 2s 11us/step - loss: 0.0025 - val_loss: 6.9885e-04\n",
      "Epoch 131/200\n",
      "218790/218790 [==============================] - 2s 11us/step - loss: 0.0025 - val_loss: 6.4909e-04\n",
      "Epoch 132/200\n",
      "218790/218790 [==============================] - 3s 11us/step - loss: 0.0025 - val_loss: 7.0856e-04\n",
      "Epoch 133/200\n",
      "218790/218790 [==============================] - 2s 11us/step - loss: 0.0025 - val_loss: 6.4850e-04\n",
      "Epoch 134/200\n",
      "218790/218790 [==============================] - 2s 11us/step - loss: 0.0025 - val_loss: 6.4068e-04\n",
      "Epoch 135/200\n",
      "218790/218790 [==============================] - 2s 11us/step - loss: 0.0025 - val_loss: 6.5103e-04\n",
      "Epoch 136/200\n",
      "218790/218790 [==============================] - 2s 11us/step - loss: 0.0025 - val_loss: 7.6903e-04\n",
      "Epoch 137/200\n",
      "218790/218790 [==============================] - 2s 11us/step - loss: 0.0025 - val_loss: 6.8018e-04\n",
      "Epoch 138/200\n",
      "218790/218790 [==============================] - 2s 11us/step - loss: 0.0026 - val_loss: 6.4966e-04\n",
      "Epoch 139/200\n",
      "218790/218790 [==============================] - 2s 11us/step - loss: 0.0025 - val_loss: 6.6460e-04\n",
      "Epoch 140/200\n",
      "218790/218790 [==============================] - 2s 11us/step - loss: 0.0025 - val_loss: 6.6847e-04\n",
      "Epoch 141/200\n",
      "218790/218790 [==============================] - 2s 11us/step - loss: 0.0025 - val_loss: 6.4448e-04\n",
      "Epoch 142/200\n",
      "218790/218790 [==============================] - 2s 11us/step - loss: 0.0025 - val_loss: 6.4536e-04\n",
      "Epoch 143/200\n",
      "218790/218790 [==============================] - 2s 11us/step - loss: 0.0025 - val_loss: 7.0880e-04\n",
      "Epoch 144/200\n",
      "218790/218790 [==============================] - 2s 11us/step - loss: 0.0025 - val_loss: 6.4433e-04\n",
      "Epoch 145/200\n",
      "218790/218790 [==============================] - 2s 11us/step - loss: 0.0025 - val_loss: 6.8253e-04\n",
      "Epoch 146/200\n",
      "218790/218790 [==============================] - 2s 11us/step - loss: 0.0025 - val_loss: 6.5434e-04\n",
      "Epoch 147/200\n",
      "218790/218790 [==============================] - 3s 11us/step - loss: 0.0025 - val_loss: 6.4310e-04\n",
      "Epoch 148/200\n",
      "218790/218790 [==============================] - 2s 11us/step - loss: 0.0025 - val_loss: 6.4565e-04\n",
      "Epoch 149/200\n",
      "218790/218790 [==============================] - 2s 11us/step - loss: 0.0025 - val_loss: 6.5214e-04\n",
      "Epoch 150/200\n",
      "218790/218790 [==============================] - 2s 11us/step - loss: 0.0025 - val_loss: 6.4479e-04\n",
      "Epoch 151/200\n",
      "218790/218790 [==============================] - 2s 11us/step - loss: 0.0025 - val_loss: 6.4706e-04\n",
      "Epoch 152/200\n",
      "218790/218790 [==============================] - 2s 11us/step - loss: 0.0025 - val_loss: 6.7594e-04\n",
      "Epoch 153/200\n",
      "218790/218790 [==============================] - 2s 11us/step - loss: 0.0025 - val_loss: 6.6034e-04\n",
      "Epoch 154/200\n",
      "218790/218790 [==============================] - 2s 11us/step - loss: 0.0025 - val_loss: 6.5385e-04\n",
      "Epoch 155/200\n",
      "218790/218790 [==============================] - 2s 11us/step - loss: 0.0025 - val_loss: 6.4529e-04\n",
      "Epoch 156/200\n",
      "218790/218790 [==============================] - 2s 11us/step - loss: 0.0025 - val_loss: 6.4081e-04\n",
      "Epoch 157/200\n",
      "218790/218790 [==============================] - 2s 11us/step - loss: 0.0025 - val_loss: 6.8808e-04\n",
      "Epoch 158/200\n",
      "218790/218790 [==============================] - 2s 11us/step - loss: 0.0025 - val_loss: 6.6002e-04\n",
      "Epoch 159/200\n",
      "218790/218790 [==============================] - 2s 11us/step - loss: 0.0025 - val_loss: 6.4225e-04\n",
      "Epoch 160/200\n",
      "218790/218790 [==============================] - 2s 11us/step - loss: 0.0025 - val_loss: 6.4338e-04\n",
      "Epoch 161/200\n",
      "218790/218790 [==============================] - 2s 11us/step - loss: 0.0025 - val_loss: 6.7768e-04\n",
      "Epoch 162/200\n",
      "218790/218790 [==============================] - 2s 11us/step - loss: 0.0025 - val_loss: 6.4058e-04\n",
      "Epoch 163/200\n",
      "218790/218790 [==============================] - 2s 11us/step - loss: 0.0025 - val_loss: 6.8524e-04\n",
      "Epoch 164/200\n",
      "218790/218790 [==============================] - 2s 11us/step - loss: 0.0025 - val_loss: 7.5019e-04\n",
      "Epoch 165/200\n",
      "218790/218790 [==============================] - 3s 11us/step - loss: 0.0025 - val_loss: 6.4565e-04\n",
      "Epoch 166/200\n",
      "218790/218790 [==============================] - 2s 11us/step - loss: 0.0025 - val_loss: 6.5734e-04\n",
      "Epoch 167/200\n",
      "218790/218790 [==============================] - 3s 12us/step - loss: 0.0025 - val_loss: 6.4061e-04\n",
      "Epoch 168/200\n",
      "218790/218790 [==============================] - 2s 11us/step - loss: 0.0025 - val_loss: 6.6085e-04\n",
      "Epoch 169/200\n",
      "218790/218790 [==============================] - 2s 11us/step - loss: 0.0025 - val_loss: 6.4085e-04\n",
      "Epoch 170/200\n",
      "218790/218790 [==============================] - 2s 11us/step - loss: 0.0025 - val_loss: 6.4530e-04\n",
      "Epoch 171/200\n",
      "218790/218790 [==============================] - 2s 11us/step - loss: 0.0025 - val_loss: 6.4144e-04\n",
      "Epoch 172/200\n",
      "218790/218790 [==============================] - 2s 11us/step - loss: 0.0025 - val_loss: 6.4209e-04\n",
      "Epoch 173/200\n",
      "218790/218790 [==============================] - 2s 11us/step - loss: 0.0025 - val_loss: 6.5359e-04\n",
      "Epoch 174/200\n",
      "218790/218790 [==============================] - 2s 11us/step - loss: 0.0025 - val_loss: 6.7076e-04\n",
      "Epoch 175/200\n",
      "218790/218790 [==============================] - 2s 11us/step - loss: 0.0025 - val_loss: 6.5339e-04\n",
      "Epoch 176/200\n",
      "218790/218790 [==============================] - 2s 11us/step - loss: 0.0025 - val_loss: 6.5266e-04\n",
      "Epoch 177/200\n",
      "218790/218790 [==============================] - 2s 11us/step - loss: 0.0025 - val_loss: 6.4287e-04\n",
      "Epoch 178/200\n",
      "218790/218790 [==============================] - 2s 11us/step - loss: 0.0025 - val_loss: 6.4174e-04\n",
      "Epoch 179/200\n",
      "218790/218790 [==============================] - 2s 11us/step - loss: 0.0025 - val_loss: 6.6640e-04\n",
      "Epoch 180/200\n",
      "218790/218790 [==============================] - 2s 11us/step - loss: 0.0025 - val_loss: 6.4505e-04\n",
      "Epoch 181/200\n",
      "218790/218790 [==============================] - 2s 11us/step - loss: 0.0024 - val_loss: 6.4350e-04\n",
      "Epoch 182/200\n",
      "218790/218790 [==============================] - 2s 11us/step - loss: 0.0025 - val_loss: 6.5731e-04\n",
      "Epoch 183/200\n",
      "218790/218790 [==============================] - 2s 11us/step - loss: 0.0025 - val_loss: 7.3266e-04\n",
      "Epoch 184/200\n",
      "218790/218790 [==============================] - 2s 11us/step - loss: 0.0024 - val_loss: 6.4410e-04\n",
      "Epoch 185/200\n",
      "218790/218790 [==============================] - 3s 12us/step - loss: 0.0024 - val_loss: 7.0765e-04\n",
      "Epoch 186/200\n",
      "218790/218790 [==============================] - 2s 11us/step - loss: 0.0024 - val_loss: 6.7461e-04\n",
      "Epoch 187/200\n",
      "218790/218790 [==============================] - 2s 11us/step - loss: 0.0024 - val_loss: 6.4904e-04\n",
      "Epoch 188/200\n",
      "218790/218790 [==============================] - 2s 11us/step - loss: 0.0024 - val_loss: 6.4301e-04\n",
      "Epoch 189/200\n",
      "218790/218790 [==============================] - 2s 11us/step - loss: 0.0024 - val_loss: 6.4083e-04\n",
      "Epoch 190/200\n",
      "218790/218790 [==============================] - 3s 11us/step - loss: 0.0024 - val_loss: 6.4672e-04\n",
      "Epoch 191/200\n",
      "218790/218790 [==============================] - 2s 11us/step - loss: 0.0024 - val_loss: 6.4301e-04\n",
      "Epoch 192/200\n",
      "218790/218790 [==============================] - 2s 11us/step - loss: 0.0024 - val_loss: 6.4094e-04\n",
      "Epoch 193/200\n",
      "218790/218790 [==============================] - 2s 11us/step - loss: 0.0024 - val_loss: 6.4088e-04\n",
      "Epoch 194/200\n",
      "218790/218790 [==============================] - 2s 11us/step - loss: 0.0024 - val_loss: 6.4059e-04\n",
      "Epoch 195/200\n",
      "218790/218790 [==============================] - 2s 11us/step - loss: 0.0024 - val_loss: 6.6146e-04\n",
      "Epoch 196/200\n",
      "218790/218790 [==============================] - 2s 11us/step - loss: 0.0024 - val_loss: 6.5071e-04\n",
      "Epoch 197/200\n",
      "218790/218790 [==============================] - 3s 11us/step - loss: 0.0024 - val_loss: 6.4407e-04\n",
      "Epoch 198/200\n",
      "218790/218790 [==============================] - 2s 11us/step - loss: 0.0024 - val_loss: 6.5134e-04\n",
      "Epoch 199/200\n",
      "218790/218790 [==============================] - 2s 11us/step - loss: 0.0025 - val_loss: 6.4537e-04\n",
      "Epoch 200/200\n",
      "218790/218790 [==============================] - 2s 11us/step - loss: 0.0024 - val_loss: 6.4966e-04\n"
     ]
    }
   ],
   "source": [
    "# LSTM 신경망\n",
    "model = Sequential()\n",
    "model.add(GRU(200, input_shape=(1, look_back), return_sequences=True))\n",
    "#model.add(Dropout(0.2))\n",
    "model.add(LSTM(200))\n",
    "model.add(Dropout(0.1))\n",
    "model.add(Dense(1))\n",
    "'''\n",
    "model = Sequential()\n",
    "model.add(CuDNNLSTM(200, input_shape=(1, look_back)))\n",
    "#model.add(Dropout(0.2)) #오버피팅을 막고자 일부를 버림\n",
    "#model.add(BatchNormalization())\n",
    "model.add(Dense(1))\n",
    "#model.add(Dense(1, activation='relu'))\n",
    "'''\n",
    "# 옵티마이저\n",
    "opt = Adam(lr=0.0001)\n",
    "\n",
    "model.compile(loss='mean_squared_error', optimizer=opt)\n",
    "#model.compile(loss='mean_squared_error', optimizer='nadam', metrics=['accuracy'])\n",
    "\n",
    "history = model.fit(\n",
    "    trainX, trainY,\n",
    "    epochs=200,\n",
    "    batch_size=1024,\n",
    "    validation_data = (testX, testY),\n",
    "    verbose=1)"
   ]
  },
  {
   "cell_type": "code",
   "execution_count": 12,
   "metadata": {},
   "outputs": [
    {
     "data": {
      "image/png": "[encoded data removed]",
      "text/plain": [
       "<Figure size 432x288 with 1 Axes>"
      ]
     },
     "metadata": {
      "needs_background": "light"
     },
     "output_type": "display_data"
    }
   ],
   "source": [
    "plt.plot(history.history['loss'])\n",
    "plt.plot(history.history['val_loss'])\n",
    "plt.ylim(0.0, 0.002)\n",
    "plt.ylabel('loss')\n",
    "plt.xlabel('epoch')\n",
    "plt.legend(['train', 'val'], loc='upper left')\n",
    "plt.show()"
   ]
  },
  {
   "cell_type": "code",
   "execution_count": 13,
   "metadata": {},
   "outputs": [
    {
     "name": "stdout",
     "output_type": "stream",
     "text": [
      "Train Score: 0.62 RMSE\n"
     ]
    }
   ],
   "source": [
    "# make prediction\n",
    "testPredict = model.predict(testX)\n",
    "testPredict = scaler.inverse_transform(testPredict)\n",
    "testY = scaler.inverse_transform(testY)\n",
    "testScore = math.sqrt(mean_squared_error(testY, testPredict))\n",
    "print('Train Score: %.2f RMSE' % testScore)"
   ]
  },
  {
   "cell_type": "markdown",
   "metadata": {},
   "source": [
    "**RMSE 수치는 오차범위를 뜻한다.  \n",
    "리플 가격이 212원 정도인데 오차범위가 0.62원 정도 될 수 있다는 뜻이다.**"
   ]
  },
  {
   "cell_type": "code",
   "execution_count": 14,
   "metadata": {},
   "outputs": [
    {
     "data": {
      "text/plain": [
       "array([-2.727273], dtype=float32)"
      ]
     },
     "execution_count": 14,
     "metadata": {},
     "output_type": "execute_result"
    }
   ],
   "source": [
    "# 다음날 종가 예측\n",
    "lastX = ndf[-1]\n",
    "lastX"
   ]
  },
  {
   "cell_type": "code",
   "execution_count": 15,
   "metadata": {},
   "outputs": [
    {
     "data": {
      "text/plain": [
       "array([[[-2.727273]]], dtype=float32)"
      ]
     },
     "execution_count": 15,
     "metadata": {},
     "output_type": "execute_result"
    }
   ],
   "source": [
    "lastX = np.reshape(lastX, (1, 1, 1))\n",
    "lastX"
   ]
  },
  {
   "cell_type": "code",
   "execution_count": 16,
   "metadata": {},
   "outputs": [],
   "source": [
    "lastY = model.predict(lastX)"
   ]
  },
  {
   "cell_type": "code",
   "execution_count": 17,
   "metadata": {},
   "outputs": [
    {
     "name": "stdout",
     "output_type": "stream",
     "text": [
      "입력된 마지막 데이터의 1분후 예측가격: 211.1\n"
     ]
    }
   ],
   "source": [
    "lastY = scaler.inverse_transform(lastY)\n",
    "print('입력된 마지막 데이터의 1분후 예측가격: %.1f' % lastY)"
   ]
  },
  {
   "cell_type": "code",
   "execution_count": 18,
   "metadata": {},
   "outputs": [
    {
     "data": {
      "image/png": "[encoded data removed]",
      "text/plain": [
       "<Figure size 1440x720 with 1 Axes>"
      ]
     },
     "metadata": {},
     "output_type": "display_data"
    }
   ],
   "source": [
    "# 시각화\n",
    "fig = plt.figure(facecolor='white', figsize=(20, 10))\n",
    "ax = fig.add_subplot(111)\n",
    "plt.plot(testPredict,label='Pred')\n",
    "plt.plot(testY,label='True')\n",
    "ax.legend()\n",
    "plt.xlabel('Data', fontsize=12)\n",
    "plt.ylabel('Price', fontsize=12)\n",
    "plt.show()"
   ]
  },
  {
   "cell_type": "markdown",
   "metadata": {},
   "source": [
    "보조 지표 칼럼을 사용하지않고 종가 데이터로만 학습을 시켰는데 오히려 로스가 줄었다.  \n",
    "보조 지표는 별 도움이 되지 않는 것인가.. \n",
    "\n",
    "**논문에 보조 지표보다는 환율, 환율 이동평균, 전 산업 생산지수등 환경 예측요소를 사용할 때, 예측율이 상승한다고 나와있다.  \n",
    "(+ DNN은 느리고 오차율이 커서 사용하지 말것)**  \n",
    "\n",
    "## ***따라서 주가 예측에 대한 오차율을 줄이기 위해서는***\n",
    "## ***보다 다양한 실험을 통해 적절한 [환경]예측요소들을 선택해야 할 것이다.***  "
   ]
  }
 ],
 "metadata": {
  "kernelspec": {
   "display_name": "Python 3",
   "language": "python",
   "name": "python3"
  },
  "language_info": {
   "codemirror_mode": {
    "name": "ipython",
    "version": 3
   },
   "file_extension": ".py",
   "mimetype": "text/x-python",
   "name": "python",
   "nbconvert_exporter": "python",
   "pygments_lexer": "ipython3",
   "version": "3.6.10"
  }
 },
 "nbformat": 4,
 "nbformat_minor": 4
}
